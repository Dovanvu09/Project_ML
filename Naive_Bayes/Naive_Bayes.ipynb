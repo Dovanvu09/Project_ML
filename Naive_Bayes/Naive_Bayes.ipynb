{
 "cells": [
  {
   "cell_type": "markdown",
   "metadata": {},
   "source": [
    "<font face = \"Arial\" size = 6> Model </font>"
   ]
  },
  {
   "cell_type": "code",
   "execution_count": 3,
   "metadata": {},
   "outputs": [],
   "source": [
    "import string\n",
    "import numpy as np\n",
    "from collections import Counter\n",
    "from math import log, exp\n",
    "import math\n",
    "\n",
    "class NaiveBayesClassifier:\n",
    "    def __init__(self, smoothing=1.0):\n",
    "        self.smoothing = smoothing  # Laplace Smoothing\n",
    "        self.class_probs = {}  # P(C)\n",
    "        self.word_probs_by_class = {}  # P(word | class)\n",
    "        self.vocab = set()  # Từ điển (Vocabulary)\n",
    "\n",
    "    # Tiền xử lý văn bản: loại bỏ dấu câu và chuyển thành chữ thường\n",
    "    def clean_text(self, text):\n",
    "        text = text.lower()  # Chuyển thành chữ thường\n",
    "        text = text.translate(str.maketrans('', '', string.punctuation))  # Loại bỏ dấu câu\n",
    "        return text\n",
    "\n",
    "    # Tokenize văn bản và loại bỏ từ dừng (nếu có)\n",
    "    def tokenize(self, text, stopwords=None):\n",
    "        tokens = text.split()\n",
    "        if stopwords:\n",
    "            tokens = [word for word in tokens if word not in stopwords]\n",
    "        return tokens\n",
    "\n",
    "    # Tiền xử lý văn bản cho toàn bộ tập dữ liệu\n",
    "    def preprocess_data(self, texts, stopwords=None):\n",
    "        return [self.tokenize(self.clean_text(text), stopwords) for text in texts]\n",
    "\n",
    "    # Tính xác suất tiên nghiệm cho các lớp P(C)\n",
    "    def calculate_class_probs(self, labels):\n",
    "        class_counts = Counter(labels)\n",
    "        total_count = len(labels)\n",
    "        self.class_probs = {class_label: count / total_count for class_label, count in class_counts.items()}\n",
    "\n",
    "    # Tính xác suất điều kiện P(word | class)\n",
    "    def calculate_word_probs(self, tokens, labels):\n",
    "        word_counts_by_class = {label: Counter() for label in set(labels)}\n",
    "        class_counts = Counter(labels)\n",
    "        # Đếm tần suất từ trong từng lớp\n",
    "        for text, label in zip(tokens, labels):\n",
    "            word_counts_by_class[label].update(text)\n",
    "        # Tính xác suất điều kiện cho mỗi từ trong mỗi lớp\n",
    "        word_probs_by_class = {}\n",
    "        vocab_size = len(self.vocab)  # Số lượng từ trong từ điển (Vocabulary)\n",
    "        \n",
    "        for class_label, word_counts in word_counts_by_class.items():\n",
    "            total_words_in_class = sum(word_counts.values())\n",
    "            word_probs = {word: (count + self.smoothing) / (total_words_in_class + self.smoothing * vocab_size)  # Laplace smoothing\n",
    "                          for word, count in word_counts.items()}\n",
    "            word_probs_by_class[class_label] = word_probs\n",
    "        \n",
    "        self.word_probs_by_class = word_probs_by_class\n",
    "\n",
    "    # Huấn luyện mô hình Naive Bayes\n",
    "    def fit(self, texts, labels, stopwords=None):\n",
    "        # Tiền xử lý dữ liệu\n",
    "        tokens = self.preprocess_data(texts, stopwords)\n",
    "        # Cập nhật từ điển (vocabulary)\n",
    "        self.vocab = set([word for text in tokens for word in text])\n",
    "        # Tính xác suất tiên nghiệm cho các lớp\n",
    "        self.calculate_class_probs(labels)\n",
    "        # Tính toán xác suất điều kiện (Likelihood) cho mỗi lớp\n",
    "        self.calculate_word_probs(tokens, labels)\n",
    "    # Dự đoán lớp cho một văn bản mới\n",
    "    def predict(self, text, stopwords=None):\n",
    "        # Tiền xử lý văn bản mới\n",
    "        tokens = self.tokenize(self.clean_text(text), stopwords)\n",
    "        \n",
    "        # Tính toán xác suất của văn bản cho mỗi lớp\n",
    "        class_scores = {}\n",
    "        for class_label, class_prob in self.class_probs.items():\n",
    "            score = log(class_prob)  # Log của xác suất tiên nghiệm P(C)\n",
    "            for word in tokens:\n",
    "                # Nếu từ có trong lớp, cộng log của xác suất điều kiện P(word | class)\n",
    "                word_prob = self.word_probs_by_class[class_label].get(word, self.smoothing / (sum([sum(word_counts.values()) for word_counts in self.word_probs_by_class.values()]) + len(self.vocab)))  # Nếu từ chưa có trong lớp, dùng Laplace smoothing\n",
    "                score += log(word_prob)\n",
    "            class_scores[class_label] = score\n",
    "        \n",
    "        # Chọn lớp có xác suất cao nhất\n",
    "        predicted_class = max(class_scores, key=class_scores.get)\n",
    "        \n",
    "        # Tính toán xác suất của lớp dự đoán\n",
    "        predicted_prob = exp(class_scores[predicted_class])  # Chuyển từ log lại thành xác suất thực tế\n",
    "        return predicted_class, predicted_prob\n",
    "\n",
    "    # Dự đoán cho toàn bộ tập dữ liệu\n",
    "    def predict_all(self, texts, stopwords=None):\n",
    "        return [self.predict(text, stopwords) for text in texts]\n",
    "\n",
    "    # Tính toán hàm mất mát (Log Loss / Cross-entropy loss)\n",
    "    def log_loss(self, X, y, epsilon=1e-10):  # epsilon là giá trị nhỏ để tránh log(0)\n",
    "        loss = 0.0\n",
    "        for text, true_label in zip(X, y):\n",
    "            predicted_label = self.predict(text)\n",
    "            predicted_prob = self.class_probs.get(predicted_label, 0.0)\n",
    "            # Đảm bảo predicted_prob không bằng 0 hoặc 1\n",
    "            predicted_prob = max(min(predicted_prob, 1 - epsilon), epsilon)\n",
    "            true_prob = 1 if predicted_label == true_label else 0\n",
    "            # Cross-entropy loss\n",
    "            loss += -true_prob * math.log(predicted_prob) - (1 - true_prob) * math.log(1 - predicted_prob)\n",
    "        \n",
    "        return loss / len(y)"
   ]
  },
  {
   "cell_type": "code",
   "execution_count": 7,
   "metadata": {},
   "outputs": [
    {
     "data": {
      "text/plain": [
       "['D:/NLP_CVS/pj_ML/Naive_Bayes/naive_bayes_model.pkl']"
      ]
     },
     "execution_count": 7,
     "metadata": {},
     "output_type": "execute_result"
    }
   ],
   "source": [
    "import pandas as pd\n",
    "# Đọc dữ liệu từ CSV\n",
    "data = pd.read_csv('D:/NLP_CVS/pj_ML/data/processed_comment.csv')\n",
    "# Lấy dữ liệu văn bản và nhãn\n",
    "texts = data['processed_comment'].tolist()\n",
    "labels = data['label'].tolist()\n",
    "# Khởi tạo Naive Bayes\n",
    "naive_bayes = NaiveBayesClassifier(smoothing=1.0)\n",
    "# Huấn luyện mô hình\n",
    "naive_bayes.fit(texts, labels)\n",
    "import joblib\n",
    "# Lưu mô hình\n",
    "joblib.dump(naive_bayes, 'D:/NLP_CVS/pj_ML/Naive_Bayes/naive_bayes_model.pkl')"
   ]
  },
  {
   "cell_type": "code",
   "execution_count": 9,
   "metadata": {},
   "outputs": [
    {
     "name": "stdout",
     "output_type": "stream",
     "text": [
      "Predicted sentiment from loaded model: ('Positive', 8.241863839715324e-29)\n"
     ]
    }
   ],
   "source": [
    "# Tải lại mô hình\n",
    "loaded_model = joblib.load('D:/NLP_CVS/pj_ML/Naive_Bayes/naive_bayes_model.pkl')\n",
    "# Dự đoán với mô hình đã tải\n",
    "new_text = \"Dịch vụ này rất tốt tôi hài lòng\"\n",
    "predicted_class = loaded_model.predict(new_text)\n",
    "print(f\"Predicted sentiment from loaded model: {predicted_class}\")"
   ]
  },
  {
   "cell_type": "code",
   "execution_count": 11,
   "metadata": {},
   "outputs": [
    {
     "name": "stdout",
     "output_type": "stream",
     "text": [
      "Predicted sentiment: ('Negative', 5.513575127388398e-19)\n"
     ]
    }
   ],
   "source": [
    "# Dự đoán cho văn bản mới\n",
    "new_text = \"Dịch vụ này rất tệ\"\n",
    "predicted_class = naive_bayes.predict(new_text)\n",
    "print(f\"Predicted sentiment: {predicted_class}\")"
   ]
  },
  {
   "cell_type": "code",
   "execution_count": 13,
   "metadata": {},
   "outputs": [
    {
     "name": "stdout",
     "output_type": "stream",
     "text": [
      "Predicted sentiment: ('Normal', 5.261398867304483e-32)\n"
     ]
    }
   ],
   "source": [
    "new_text = \"Dịch vụ này bình thường tạm chấp nhận được\"\n",
    "predicted_class = naive_bayes.predict(new_text)\n",
    "print(f\"Predicted sentiment: {predicted_class}\")"
   ]
  },
  {
   "cell_type": "code",
   "execution_count": null,
   "metadata": {},
   "outputs": [],
   "source": [
    "new"
   ]
  }
 ],
 "metadata": {
  "kernelspec": {
   "display_name": "env1",
   "language": "python",
   "name": "python3"
  },
  "language_info": {
   "codemirror_mode": {
    "name": "ipython",
    "version": 3
   },
   "file_extension": ".py",
   "mimetype": "text/x-python",
   "name": "python",
   "nbconvert_exporter": "python",
   "pygments_lexer": "ipython3",
   "version": "3.12.4"
  }
 },
 "nbformat": 4,
 "nbformat_minor": 2
}
